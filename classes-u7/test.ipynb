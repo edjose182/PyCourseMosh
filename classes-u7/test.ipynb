{
 "cells": [
  {
   "cell_type": "code",
   "execution_count": 4,
   "metadata": {},
   "outputs": [
    {
     "name": "stdout",
     "output_type": "stream",
     "text": [
      "Point(x, y)\n",
      "True\n"
     ]
    }
   ],
   "source": [
    "from collections import namedtuple\n",
    "\n",
    "Point = namedtuple(\"Point\", [\"x\",\"y\"])\n",
    "\n",
    "p1 = Point(x=1,y=2)\n",
    "p2 = Point(x=1,y=2)\n",
    "\n",
    "print(p1 == p2)"
   ]
  }
 ],
 "metadata": {
  "kernelspec": {
   "display_name": "Python 3",
   "language": "python",
   "name": "python3"
  },
  "language_info": {
   "codemirror_mode": {
    "name": "ipython",
    "version": 3
   },
   "file_extension": ".py",
   "mimetype": "text/x-python",
   "name": "python",
   "nbconvert_exporter": "python",
   "pygments_lexer": "ipython3",
   "version": "3.10.10"
  },
  "orig_nbformat": 4,
  "vscode": {
   "interpreter": {
    "hash": "5b295b9e4a5a1399f6d0b23683958949972966fcd0b96ad3f73f380ecb14e132"
   }
  }
 },
 "nbformat": 4,
 "nbformat_minor": 2
}
