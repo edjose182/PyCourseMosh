{
 "cells": [
  {
   "cell_type": "code",
   "execution_count": 6,
   "metadata": {},
   "outputs": [
    {
     "name": "stdout",
     "output_type": "stream",
     "text": [
      "Command '['false']' returned non-zero exit status 1.\n"
     ]
    }
   ],
   "source": [
    "import subprocess\n",
    "\n",
    "try:\n",
    "    completed = subprocess.run([\"false\"],\n",
    "                               capture_output=True,\n",
    "                               text=True,\n",
    "                               check=True)# Check if there is an error in the process\n",
    "    print(\"args\",completed.args)\n",
    "    print(\"returncode\",completed.returncode)\n",
    "    print(\"stderr\",completed.stderr)\n",
    "    print(\"stdout\",completed.stdout)\n",
    "\n",
    "except subprocess.CalledProcessError as ex:\n",
    "    print(ex)"
   ]
  }
 ],
 "metadata": {
  "kernelspec": {
   "display_name": "Python 3",
   "language": "python",
   "name": "python3"
  },
  "language_info": {
   "codemirror_mode": {
    "name": "ipython",
    "version": 3
   },
   "file_extension": ".py",
   "mimetype": "text/x-python",
   "name": "python",
   "nbconvert_exporter": "python",
   "pygments_lexer": "ipython3",
   "version": "3.9.2"
  },
  "orig_nbformat": 4
 },
 "nbformat": 4,
 "nbformat_minor": 2
}
