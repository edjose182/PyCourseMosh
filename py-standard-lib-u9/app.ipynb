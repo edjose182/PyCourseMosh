{
 "cells": [
  {
   "cell_type": "code",
   "execution_count": 3,
   "metadata": {},
   "outputs": [
    {
     "name": "stdout",
     "output_type": "stream",
     "text": [
      "total 60\n",
      "-rw-r--r-- 1 edjose2206 edjose2206  3092 May 22 21:52 app.ipynb\n",
      "-rw-r--r-- 1 edjose2206 edjose2206   163 May 18 22:29 app.py\n",
      "-rw-r--r-- 1 edjose2206 edjose2206    50 Apr 23 19:39 data.csv\n",
      "-rw-r--r-- 1 edjose2206 edjose2206  8192 May  7 17:39 db.sqlite3\n",
      "-rw-r--r-- 1 edjose2206 edjose2206    22 Apr 23 19:18 files.zip\n",
      "drwxr-xr-x 2 edjose2206 edjose2206  4096 Apr 15 16:53 images\n",
      "-rw-r--r-- 1 edjose2206 edjose2206   172 May  7 17:39 movies.json\n",
      "-rw-r--r-- 1 edjose2206 edjose2206 23407 May 18 22:29 notes.md\n",
      "-rw-r--r-- 1 edjose2206 edjose2206   126 May 18 21:59 template.html\n",
      "args ['ls', '-l']\n",
      "returncode 0\n",
      "stderr None\n",
      "stdout None\n"
     ]
    }
   ],
   "source": [
    "import subprocess\n",
    "\n",
    "completed = subprocess.run([\"ls\",\"-l\"])\n",
    "print(\"args\",completed.args)\n",
    "print(\"returncode\",completed.returncode)\n",
    "print(\"stderr\",completed.stderr)\n",
    "print(\"stdout\",completed.stdout)"
   ]
  }
 ],
 "metadata": {
  "kernelspec": {
   "display_name": "Python 3",
   "language": "python",
   "name": "python3"
  },
  "language_info": {
   "codemirror_mode": {
    "name": "ipython",
    "version": 3
   },
   "file_extension": ".py",
   "mimetype": "text/x-python",
   "name": "python",
   "nbconvert_exporter": "python",
   "pygments_lexer": "ipython3",
   "version": "3.9.2"
  },
  "orig_nbformat": 4
 },
 "nbformat": 4,
 "nbformat_minor": 2
}
