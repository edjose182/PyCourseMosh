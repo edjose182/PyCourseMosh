{
 "cells": [
  {
   "cell_type": "code",
   "execution_count": 8,
   "metadata": {},
   "outputs": [],
   "source": [
    "#Imports\n",
    "import sqlite3\n",
    "import json\n",
    "from pathlib import Path\n",
    "\n",
    "#Extract json file info into the movies variable\n",
    "data = Path(\"movies.json\").read_text()\n",
    "movies = json.loads(data)\n"
   ]
  },
  {
   "cell_type": "code",
   "execution_count": 12,
   "metadata": {},
   "outputs": [
    {
     "ename": "ProgrammingError",
     "evalue": "Incorrect number of bindings supplied. The current statement uses 0, and there are 3 supplied.",
     "output_type": "error",
     "traceback": [
      "\u001b[1;31m---------------------------------------------------------------------------\u001b[0m",
      "\u001b[1;31mProgrammingError\u001b[0m                          Traceback (most recent call last)",
      "\u001b[1;32mc:\\Users\\campedga\\Desktop\\courses\\PyCourseMosh\\py-standard-lib-u9\\app.ipynb Cell 2\u001b[0m in \u001b[0;36m8\n\u001b[0;32m      <a href='vscode-notebook-cell:/c%3A/Users/campedga/Desktop/courses/PyCourseMosh/py-standard-lib-u9/app.ipynb#W1sZmlsZQ%3D%3D?line=2'>3</a>\u001b[0m command \u001b[39m=\u001b[39m \u001b[39m\"\u001b[39m\u001b[39mSELECT * FROM Movies\u001b[39m\u001b[39m\"\u001b[39m \u001b[39m#Info is stored in a table\u001b[39;00m\n\u001b[0;32m      <a href='vscode-notebook-cell:/c%3A/Users/campedga/Desktop/courses/PyCourseMosh/py-standard-lib-u9/app.ipynb#W1sZmlsZQ%3D%3D?line=3'>4</a>\u001b[0m                                               \u001b[39m#called Movies. The ? in\u001b[39;00m\n\u001b[0;32m      <a href='vscode-notebook-cell:/c%3A/Users/campedga/Desktop/courses/PyCourseMosh/py-standard-lib-u9/app.ipynb#W1sZmlsZQ%3D%3D?line=4'>5</a>\u001b[0m                                               \u001b[39m#the command are place\u001b[39;00m\n\u001b[0;32m      <a href='vscode-notebook-cell:/c%3A/Users/campedga/Desktop/courses/PyCourseMosh/py-standard-lib-u9/app.ipynb#W1sZmlsZQ%3D%3D?line=5'>6</a>\u001b[0m                                               \u001b[39m#holders for the value\u001b[39;00m\n\u001b[0;32m      <a href='vscode-notebook-cell:/c%3A/Users/campedga/Desktop/courses/PyCourseMosh/py-standard-lib-u9/app.ipynb#W1sZmlsZQ%3D%3D?line=6'>7</a>\u001b[0m                                               \u001b[39m#to supply to the table\u001b[39;00m\n\u001b[1;32m----> <a href='vscode-notebook-cell:/c%3A/Users/campedga/Desktop/courses/PyCourseMosh/py-standard-lib-u9/app.ipynb#W1sZmlsZQ%3D%3D?line=7'>8</a>\u001b[0m conn\u001b[39m.\u001b[39;49mexecute(command,\u001b[39mtuple\u001b[39;49m(movie\u001b[39m.\u001b[39;49mvalues()))\n\u001b[0;32m      <a href='vscode-notebook-cell:/c%3A/Users/campedga/Desktop/courses/PyCourseMosh/py-standard-lib-u9/app.ipynb#W1sZmlsZQ%3D%3D?line=8'>9</a>\u001b[0m conn\u001b[39m.\u001b[39mexecute(command)\n\u001b[0;32m     <a href='vscode-notebook-cell:/c%3A/Users/campedga/Desktop/courses/PyCourseMosh/py-standard-lib-u9/app.ipynb#W1sZmlsZQ%3D%3D?line=9'>10</a>\u001b[0m \u001b[39mprint\u001b[39m(\u001b[39mtuple\u001b[39m(movie\u001b[39m.\u001b[39mvalues()))\n",
      "\u001b[1;31mProgrammingError\u001b[0m: Incorrect number of bindings supplied. The current statement uses 0, and there are 3 supplied."
     ]
    }
   ],
   "source": [
    "#Create database\n",
    "with sqlite3.connect(\"db.sqlite3\") as conn: #This opens the database\n",
    "    command = \"SELECT * FROM Movies\" #Info is stored in a table\n",
    "                                                  #called Movies. The ? in\n",
    "                                                  #the command are place\n",
    "                                                  #holders for the value\n",
    "                                                  #to supply to the table\n",
    "    conn.execute(command,tuple(movie.values()))\n",
    "    conn.execute(command)\n",
    "    print(tuple(movie.values()))\n",
    "    conn.commit() # This closes the database\n",
    "\n",
    "    #This will print an error because there isn't a table called Movies"
   ]
  }
 ],
 "metadata": {
  "kernelspec": {
   "display_name": "Python 3",
   "language": "python",
   "name": "python3"
  },
  "language_info": {
   "codemirror_mode": {
    "name": "ipython",
    "version": 3
   },
   "file_extension": ".py",
   "mimetype": "text/x-python",
   "name": "python",
   "nbconvert_exporter": "python",
   "pygments_lexer": "ipython3",
   "version": "3.10.11"
  },
  "orig_nbformat": 4
 },
 "nbformat": 4,
 "nbformat_minor": 2
}
