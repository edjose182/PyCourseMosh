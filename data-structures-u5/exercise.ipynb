{
 "cells": [
  {
   "cell_type": "code",
   "execution_count": 3,
   "metadata": {},
   "outputs": [
    {
     "name": "stdout",
     "output_type": "stream",
     "text": [
      "Hola Emma\n",
      "Cuanto es 5 + 5?\n",
      "El resulado es 10\n"
     ]
    }
   ],
   "source": [
    "print(\"Hola Emma\")\n",
    "\n",
    "print(\"Cuanto es 5 + 5?\")\n",
    "\n",
    "calculo = 5 + 5\n",
    "\n",
    "print(f'El resulado es {calculo}')\n"
   ]
  }
 ],
 "metadata": {
  "kernelspec": {
   "display_name": "Python 3",
   "language": "python",
   "name": "python3"
  },
  "language_info": {
   "codemirror_mode": {
    "name": "ipython",
    "version": 3
   },
   "file_extension": ".py",
   "mimetype": "text/x-python",
   "name": "python",
   "nbconvert_exporter": "python",
   "pygments_lexer": "ipython3",
   "version": "3.10.9"
  },
  "orig_nbformat": 4,
  "vscode": {
   "interpreter": {
    "hash": "5b295b9e4a5a1399f6d0b23683958949972966fcd0b96ad3f73f380ecb14e132"
   }
  }
 },
 "nbformat": 4,
 "nbformat_minor": 2
}
